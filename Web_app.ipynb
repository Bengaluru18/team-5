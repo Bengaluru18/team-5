{
 "cells": [
  {
   "cell_type": "code",
   "execution_count": 1,
   "metadata": {},
   "outputs": [],
   "source": [
    "import pandas as pd\n",
    "import numpy as np\n",
    "import flask"
   ]
  },
  {
   "cell_type": "code",
   "execution_count": 2,
   "metadata": {},
   "outputs": [
    {
     "ename": "DefaultCredentialsError",
     "evalue": "Could not automatically determine credentials. Please set GOOGLE_APPLICATION_CREDENTIALS or explicitly create credentials and re-run the application. For more information, please see https://developers.google.com/accounts/docs/application-default-credentials.",
     "output_type": "error",
     "traceback": [
      "\u001b[1;31m---------------------------------------------------------------------------\u001b[0m",
      "\u001b[1;31mDefaultCredentialsError\u001b[0m                   Traceback (most recent call last)",
      "\u001b[1;32m<ipython-input-2-d539bb642825>\u001b[0m in \u001b[0;36m<module>\u001b[1;34m()\u001b[0m\n\u001b[0;32m      6\u001b[0m \u001b[1;33m\u001b[0m\u001b[0m\n\u001b[0;32m      7\u001b[0m firebase_admin.initialize_app(options={\n\u001b[1;32m----> 8\u001b[1;33m     \u001b[1;34m'databaseURL'\u001b[0m\u001b[1;33m:\u001b[0m \u001b[1;34m'https://<DB_NAME>.firebaseio.com'\u001b[0m\u001b[1;33m\u001b[0m\u001b[0m\n\u001b[0m\u001b[0;32m      9\u001b[0m })\n\u001b[0;32m     10\u001b[0m \u001b[0mSUPERHEROES\u001b[0m \u001b[1;33m=\u001b[0m \u001b[0mdb\u001b[0m\u001b[1;33m.\u001b[0m\u001b[0mreference\u001b[0m\u001b[1;33m(\u001b[0m\u001b[1;34m'superheroes'\u001b[0m\u001b[1;33m)\u001b[0m\u001b[1;33m\u001b[0m\u001b[0m\n",
      "\u001b[1;32mc:\\python\\python36-32\\lib\\site-packages\\firebase_admin\\__init__.py\u001b[0m in \u001b[0;36minitialize_app\u001b[1;34m(credential, options, name)\u001b[0m\n\u001b[0;32m     63\u001b[0m     \"\"\"\n\u001b[0;32m     64\u001b[0m     \u001b[1;32mif\u001b[0m \u001b[0mcredential\u001b[0m \u001b[1;32mis\u001b[0m \u001b[1;32mNone\u001b[0m\u001b[1;33m:\u001b[0m\u001b[1;33m\u001b[0m\u001b[0m\n\u001b[1;32m---> 65\u001b[1;33m         \u001b[0mcredential\u001b[0m \u001b[1;33m=\u001b[0m \u001b[0mcredentials\u001b[0m\u001b[1;33m.\u001b[0m\u001b[0mApplicationDefault\u001b[0m\u001b[1;33m(\u001b[0m\u001b[1;33m)\u001b[0m\u001b[1;33m\u001b[0m\u001b[0m\n\u001b[0m\u001b[0;32m     66\u001b[0m     \u001b[0mapp\u001b[0m \u001b[1;33m=\u001b[0m \u001b[0mApp\u001b[0m\u001b[1;33m(\u001b[0m\u001b[0mname\u001b[0m\u001b[1;33m,\u001b[0m \u001b[0mcredential\u001b[0m\u001b[1;33m,\u001b[0m \u001b[0moptions\u001b[0m\u001b[1;33m)\u001b[0m\u001b[1;33m\u001b[0m\u001b[0m\n\u001b[0;32m     67\u001b[0m     \u001b[1;32mwith\u001b[0m \u001b[0m_apps_lock\u001b[0m\u001b[1;33m:\u001b[0m\u001b[1;33m\u001b[0m\u001b[0m\n",
      "\u001b[1;32mc:\\python\\python36-32\\lib\\site-packages\\firebase_admin\\credentials.py\u001b[0m in \u001b[0;36m__init__\u001b[1;34m(self)\u001b[0m\n\u001b[0;32m    131\u001b[0m         \"\"\"\n\u001b[0;32m    132\u001b[0m         \u001b[0msuper\u001b[0m\u001b[1;33m(\u001b[0m\u001b[0mApplicationDefault\u001b[0m\u001b[1;33m,\u001b[0m \u001b[0mself\u001b[0m\u001b[1;33m)\u001b[0m\u001b[1;33m.\u001b[0m\u001b[0m__init__\u001b[0m\u001b[1;33m(\u001b[0m\u001b[1;33m)\u001b[0m\u001b[1;33m\u001b[0m\u001b[0m\n\u001b[1;32m--> 133\u001b[1;33m         \u001b[0mself\u001b[0m\u001b[1;33m.\u001b[0m\u001b[0m_g_credential\u001b[0m\u001b[1;33m,\u001b[0m \u001b[0mself\u001b[0m\u001b[1;33m.\u001b[0m\u001b[0m_project_id\u001b[0m \u001b[1;33m=\u001b[0m \u001b[0mgoogle\u001b[0m\u001b[1;33m.\u001b[0m\u001b[0mauth\u001b[0m\u001b[1;33m.\u001b[0m\u001b[0mdefault\u001b[0m\u001b[1;33m(\u001b[0m\u001b[0mscopes\u001b[0m\u001b[1;33m=\u001b[0m\u001b[0m_scopes\u001b[0m\u001b[1;33m)\u001b[0m\u001b[1;33m\u001b[0m\u001b[0m\n\u001b[0m\u001b[0;32m    134\u001b[0m \u001b[1;33m\u001b[0m\u001b[0m\n\u001b[0;32m    135\u001b[0m     \u001b[1;32mdef\u001b[0m \u001b[0mget_credential\u001b[0m\u001b[1;33m(\u001b[0m\u001b[0mself\u001b[0m\u001b[1;33m)\u001b[0m\u001b[1;33m:\u001b[0m\u001b[1;33m\u001b[0m\u001b[0m\n",
      "\u001b[1;32mc:\\python\\python36-32\\lib\\site-packages\\google\\auth\\_default.py\u001b[0m in \u001b[0;36mdefault\u001b[1;34m(scopes, request)\u001b[0m\n\u001b[0;32m    304\u001b[0m             \u001b[1;32mreturn\u001b[0m \u001b[0mcredentials\u001b[0m\u001b[1;33m,\u001b[0m \u001b[0meffective_project_id\u001b[0m\u001b[1;33m\u001b[0m\u001b[0m\n\u001b[0;32m    305\u001b[0m \u001b[1;33m\u001b[0m\u001b[0m\n\u001b[1;32m--> 306\u001b[1;33m     \u001b[1;32mraise\u001b[0m \u001b[0mexceptions\u001b[0m\u001b[1;33m.\u001b[0m\u001b[0mDefaultCredentialsError\u001b[0m\u001b[1;33m(\u001b[0m\u001b[0m_HELP_MESSAGE\u001b[0m\u001b[1;33m)\u001b[0m\u001b[1;33m\u001b[0m\u001b[0m\n\u001b[0m",
      "\u001b[1;31mDefaultCredentialsError\u001b[0m: Could not automatically determine credentials. Please set GOOGLE_APPLICATION_CREDENTIALS or explicitly create credentials and re-run the application. For more information, please see https://developers.google.com/accounts/docs/application-default-credentials."
     ]
    }
   ],
   "source": [
    "import firebase_admin\n",
    "from firebase_admin import db\n",
    "import flask\n",
    "\n",
    "app = flask.Flask(__name__)\n",
    "\n",
    "firebase_admin.initialize_app(options={\n",
    "    'databaseURL': 'https://<DB_NAME>.firebaseio.com'\n",
    "})\n",
    "SUPERHEROES = db.reference('superheroes')\n",
    "\n",
    "@app.route('/heroes', methods=['POST'])\n",
    "def create_hero():\n",
    "    req = flask.request.json\n",
    "    hero = SUPERHEROES.push(req)\n",
    "    return flask.jsonify({'id': hero.key}), 201\n",
    "\n",
    "@app.route('/heroes/<id>')\n",
    "def read_hero(id):\n",
    "    return flask.jsonify(_ensure_hero(id))\n",
    "\n",
    "@app.route('/heroes/<id>', methods=['PUT'])\n",
    "def update_hero(id):\n",
    "    _ensure_hero(id)\n",
    "    req = flask.request.json\n",
    "    SUPERHEROES.child(id).update(req)\n",
    "    return flask.jsonify({'success': True})\n",
    "\n",
    "@app.route('/heroes/<id>', methods=['DELETE'])\n",
    "def delete_hero(id):\n",
    "    _ensure_hero(id)\n",
    "    SUPERHEROES.child(id).delete()\n",
    "    return flask.jsonify({'success': True})\n",
    "\n",
    "def _ensure_hero(id):\n",
    "    hero = SUPERHEROES.child(id).get()\n",
    "    if not hero:\n",
    "        flask.abort(404)\n",
    "    return hero"
   ]
  },
  {
   "cell_type": "code",
   "execution_count": null,
   "metadata": {},
   "outputs": [],
   "source": [
    "import firebase_admin\n",
    "from firebase_admin import db\n",
    "import flask\n",
    "\n",
    "app = flask.Flask(__name__)\n",
    "\n",
    "'''firebase_admin.initialize_app(options={\n",
    "    'databaseURL': 'https://<DB_NAME>.firebaseio.com'\n",
    "})\n",
    "SUPERHEROES = db.reference('superheroes')'''\n",
    "\n",
    "@app.route('/heroes', methods=['POST'])\n",
    "def create_hero():\n",
    "    req = flask.request.json\n",
    "    hero = SUPERHEROES.push(req)\n",
    "    return flask.jsonify({'id': hero.key}), 201\n",
    "\n",
    "@app.route('/heroes/<id>')\n",
    "def read_hero(id):\n",
    "    return flask.jsonify(_ensure_hero(id))\n",
    "\n",
    "@app.route('/heroes/<id>', methods=['PUT'])\n",
    "def update_hero(id):\n",
    "    _ensure_hero(id)\n",
    "    req = flask.request.json\n",
    "    SUPERHEROES.child(id).update(req)\n",
    "    return flask.jsonify({'success': True})\n",
    "\n",
    "@app.route('/heroes/<id>', methods=['DELETE'])\n",
    "def delete_hero(id):\n",
    "    _ensure_hero(id)\n",
    "    SUPERHEROES.child(id).delete()\n",
    "    return flask.jsonify({'success': True})\n",
    "\n",
    "def _ensure_hero(id):\n",
    "    hero = SUPERHEROES.child(id).get()\n",
    "    if not hero:\n",
    "        flask.abort(404)\n",
    "    return hero"
   ]
  },
  {
   "cell_type": "markdown",
   "metadata": {},
   "source": [
    "Centre head:-"
   ]
  },
  {
   "cell_type": "code",
   "execution_count": null,
   "metadata": {},
   "outputs": [],
   "source": [
    "@app.route('/approve', methods=['GET'])\n",
    "def approve():\n",
    "    #access database,i.e, run query to get pending approvals and display them based on the priority list:\n",
    "    '''\n",
    "    run a query to get booking id and sort according to the priority\n",
    "    for each level in priority in decreasing order:\n",
    "        if query with inventory shows no records of the machine, go to next machine\n",
    "        if machine in inventory, then display the available one\n",
    "        if all machine occupied in the priority, show error\n",
    "    '''\n",
    "    \n",
    "@app.route('finalise_approve',method=['GET'])\n",
    "def finalise_approve():\n",
    "    '''\n",
    "    remove the machine from the inventory list and add to the in use list. update the columns accordingly\n",
    "    return confirmation    \n",
    "    '''\n",
    "    \n",
    "@app.route('/finished_using', methods =['GET'])\n",
    "def finished_using():\n",
    "    '''\n",
    "    Update the database of inventories and increment the count of the machine returned in the inventory and remove for the used database\n",
    "    \n",
    "    '''\n",
    "@app.route('/request_analysis',methods = ['GET'])\n",
    "    '''\n",
    "    query the database and get all the tables\n",
    "    machine wise analytics, go to history of the usage database\n",
    "    do a bar chart for a hobli, the machine and its count\n",
    "\n",
    "    heat map of the currently used machines\n",
    "    '''"
   ]
  },
  {
   "cell_type": "markdown",
   "metadata": {},
   "source": [
    "State Manager:"
   ]
  },
  {
   "cell_type": "code",
   "execution_count": null,
   "metadata": {},
   "outputs": [],
   "source": [
    "@app.route('/statehead_analysis',methods = ['GET'])\n",
    "    '''\n",
    "    query the database and get all the tables\n",
    "    district wise machines being used and taluk wise machines being used (count)\n",
    "    also the machines not being used \n",
    "    \n",
    "    gps tracking of the individual machines\n",
    "    '''"
   ]
  },
  {
   "cell_type": "code",
   "execution_count": 3,
   "metadata": {},
   "outputs": [],
   "source": [
    "import pandas as pd"
   ]
  },
  {
   "cell_type": "code",
   "execution_count": 44,
   "metadata": {},
   "outputs": [
    {
     "data": {
      "text/html": [
       "<div>\n",
       "<style scoped>\n",
       "    .dataframe tbody tr th:only-of-type {\n",
       "        vertical-align: middle;\n",
       "    }\n",
       "\n",
       "    .dataframe tbody tr th {\n",
       "        vertical-align: top;\n",
       "    }\n",
       "\n",
       "    .dataframe thead th {\n",
       "        text-align: right;\n",
       "    }\n",
       "</style>\n",
       "<table border=\"1\" class=\"dataframe\">\n",
       "  <thead>\n",
       "    <tr style=\"text-align: right;\">\n",
       "      <th></th>\n",
       "      <th>Mech_id</th>\n",
       "      <th>Description</th>\n",
       "    </tr>\n",
       "  </thead>\n",
       "  <tbody>\n",
       "    <tr>\n",
       "      <th>0</th>\n",
       "      <td>1</td>\n",
       "      <td>A</td>\n",
       "    </tr>\n",
       "    <tr>\n",
       "      <th>1</th>\n",
       "      <td>2</td>\n",
       "      <td>B</td>\n",
       "    </tr>\n",
       "    <tr>\n",
       "      <th>2</th>\n",
       "      <td>3</td>\n",
       "      <td>C</td>\n",
       "    </tr>\n",
       "    <tr>\n",
       "      <th>3</th>\n",
       "      <td>4</td>\n",
       "      <td>D</td>\n",
       "    </tr>\n",
       "    <tr>\n",
       "      <th>4</th>\n",
       "      <td>5</td>\n",
       "      <td>E</td>\n",
       "    </tr>\n",
       "    <tr>\n",
       "      <th>5</th>\n",
       "      <td>6</td>\n",
       "      <td>E</td>\n",
       "    </tr>\n",
       "  </tbody>\n",
       "</table>\n",
       "</div>"
      ],
      "text/plain": [
       "   Mech_id Description\n",
       "0        1           A\n",
       "1        2           B\n",
       "2        3           C\n",
       "3        4           D\n",
       "4        5           E\n",
       "5        6           E"
      ]
     },
     "execution_count": 44,
     "metadata": {},
     "output_type": "execute_result"
    }
   ],
   "source": [
    "machine_table = pd.DataFrame({\"Mech_id\":[1,2,3,4,5,6],\"Description\":[\"A\",\"B\",\"C\",\"D\",\"E\",\"E\"]})\n",
    "machine_table"
   ]
  },
  {
   "cell_type": "code",
   "execution_count": 68,
   "metadata": {},
   "outputs": [
    {
     "data": {
      "text/html": [
       "<div>\n",
       "<style scoped>\n",
       "    .dataframe tbody tr th:only-of-type {\n",
       "        vertical-align: middle;\n",
       "    }\n",
       "\n",
       "    .dataframe tbody tr th {\n",
       "        vertical-align: top;\n",
       "    }\n",
       "\n",
       "    .dataframe thead th {\n",
       "        text-align: right;\n",
       "    }\n",
       "</style>\n",
       "<table border=\"1\" class=\"dataframe\">\n",
       "  <thead>\n",
       "    <tr style=\"text-align: right;\">\n",
       "      <th></th>\n",
       "      <th>State_id</th>\n",
       "      <th>Centre_id</th>\n",
       "      <th>State_name</th>\n",
       "    </tr>\n",
       "  </thead>\n",
       "  <tbody>\n",
       "    <tr>\n",
       "      <th>0</th>\n",
       "      <td>1</td>\n",
       "      <td>5</td>\n",
       "      <td>A</td>\n",
       "    </tr>\n",
       "    <tr>\n",
       "      <th>1</th>\n",
       "      <td>1</td>\n",
       "      <td>6</td>\n",
       "      <td>A</td>\n",
       "    </tr>\n",
       "    <tr>\n",
       "      <th>2</th>\n",
       "      <td>2</td>\n",
       "      <td>7</td>\n",
       "      <td>B</td>\n",
       "    </tr>\n",
       "    <tr>\n",
       "      <th>3</th>\n",
       "      <td>2</td>\n",
       "      <td>8</td>\n",
       "      <td>B</td>\n",
       "    </tr>\n",
       "  </tbody>\n",
       "</table>\n",
       "</div>"
      ],
      "text/plain": [
       "   State_id  Centre_id State_name\n",
       "0         1          5          A\n",
       "1         1          6          A\n",
       "2         2          7          B\n",
       "3         2          8          B"
      ]
     },
     "execution_count": 68,
     "metadata": {},
     "output_type": "execute_result"
    }
   ],
   "source": [
    "State = pd.DataFrame({\"State_id\":[1,1,2,2],\"Centre_id\":[5,6,7,8],\"State_name\":[\"A\",\"A\",\"B\",\"B\"]})\n",
    "State"
   ]
  },
  {
   "cell_type": "code",
   "execution_count": 69,
   "metadata": {},
   "outputs": [
    {
     "data": {
      "text/html": [
       "<div>\n",
       "<style scoped>\n",
       "    .dataframe tbody tr th:only-of-type {\n",
       "        vertical-align: middle;\n",
       "    }\n",
       "\n",
       "    .dataframe tbody tr th {\n",
       "        vertical-align: top;\n",
       "    }\n",
       "\n",
       "    .dataframe thead th {\n",
       "        text-align: right;\n",
       "    }\n",
       "</style>\n",
       "<table border=\"1\" class=\"dataframe\">\n",
       "  <thead>\n",
       "    <tr style=\"text-align: right;\">\n",
       "      <th></th>\n",
       "      <th>Centre_id</th>\n",
       "      <th>Centre</th>\n",
       "      <th>Mech_id</th>\n",
       "      <th>Status</th>\n",
       "    </tr>\n",
       "  </thead>\n",
       "  <tbody>\n",
       "    <tr>\n",
       "      <th>0</th>\n",
       "      <td>5</td>\n",
       "      <td>AA</td>\n",
       "      <td>1</td>\n",
       "      <td>U</td>\n",
       "    </tr>\n",
       "    <tr>\n",
       "      <th>1</th>\n",
       "      <td>6</td>\n",
       "      <td>BB</td>\n",
       "      <td>2</td>\n",
       "      <td>N</td>\n",
       "    </tr>\n",
       "    <tr>\n",
       "      <th>2</th>\n",
       "      <td>7</td>\n",
       "      <td>CC</td>\n",
       "      <td>3</td>\n",
       "      <td>U</td>\n",
       "    </tr>\n",
       "    <tr>\n",
       "      <th>3</th>\n",
       "      <td>8</td>\n",
       "      <td>DD</td>\n",
       "      <td>4</td>\n",
       "      <td>N</td>\n",
       "    </tr>\n",
       "    <tr>\n",
       "      <th>4</th>\n",
       "      <td>8</td>\n",
       "      <td>DD</td>\n",
       "      <td>5</td>\n",
       "      <td>U</td>\n",
       "    </tr>\n",
       "    <tr>\n",
       "      <th>5</th>\n",
       "      <td>8</td>\n",
       "      <td>DD</td>\n",
       "      <td>6</td>\n",
       "      <td>N</td>\n",
       "    </tr>\n",
       "  </tbody>\n",
       "</table>\n",
       "</div>"
      ],
      "text/plain": [
       "   Centre_id Centre  Mech_id Status\n",
       "0          5     AA        1      U\n",
       "1          6     BB        2      N\n",
       "2          7     CC        3      U\n",
       "3          8     DD        4      N\n",
       "4          8     DD        5      U\n",
       "5          8     DD        6      N"
      ]
     },
     "execution_count": 69,
     "metadata": {},
     "output_type": "execute_result"
    }
   ],
   "source": [
    "Centre = pd.DataFrame({\"Centre_id\":[5,6,7,8,8,8],\"Centre\":[\"AA\",\"BB\",\"CC\",\"DD\",\"DD\",\"DD\"],\"Mech_id\":[1,2,3,4,5,6],\"Status\":['U','N','U','N','U','N']})\n",
    "Centre"
   ]
  },
  {
   "cell_type": "code",
   "execution_count": 70,
   "metadata": {},
   "outputs": [
    {
     "data": {
      "text/html": [
       "<div>\n",
       "<style scoped>\n",
       "    .dataframe tbody tr th:only-of-type {\n",
       "        vertical-align: middle;\n",
       "    }\n",
       "\n",
       "    .dataframe tbody tr th {\n",
       "        vertical-align: top;\n",
       "    }\n",
       "\n",
       "    .dataframe thead th {\n",
       "        text-align: right;\n",
       "    }\n",
       "</style>\n",
       "<table border=\"1\" class=\"dataframe\">\n",
       "  <thead>\n",
       "    <tr style=\"text-align: right;\">\n",
       "      <th></th>\n",
       "      <th>id</th>\n",
       "      <th>Mech_id</th>\n",
       "      <th>Lat</th>\n",
       "      <th>Long</th>\n",
       "    </tr>\n",
       "  </thead>\n",
       "  <tbody>\n",
       "    <tr>\n",
       "      <th>0</th>\n",
       "      <td>0</td>\n",
       "      <td>1</td>\n",
       "      <td>45</td>\n",
       "      <td>45</td>\n",
       "    </tr>\n",
       "    <tr>\n",
       "      <th>1</th>\n",
       "      <td>1</td>\n",
       "      <td>2</td>\n",
       "      <td>46</td>\n",
       "      <td>46</td>\n",
       "    </tr>\n",
       "    <tr>\n",
       "      <th>2</th>\n",
       "      <td>2</td>\n",
       "      <td>3</td>\n",
       "      <td>47</td>\n",
       "      <td>47</td>\n",
       "    </tr>\n",
       "    <tr>\n",
       "      <th>3</th>\n",
       "      <td>3</td>\n",
       "      <td>4</td>\n",
       "      <td>48</td>\n",
       "      <td>48</td>\n",
       "    </tr>\n",
       "    <tr>\n",
       "      <th>4</th>\n",
       "      <td>4</td>\n",
       "      <td>5</td>\n",
       "      <td>49</td>\n",
       "      <td>49</td>\n",
       "    </tr>\n",
       "  </tbody>\n",
       "</table>\n",
       "</div>"
      ],
      "text/plain": [
       "   id  Mech_id  Lat  Long\n",
       "0   0        1   45    45\n",
       "1   1        2   46    46\n",
       "2   2        3   47    47\n",
       "3   3        4   48    48\n",
       "4   4        5   49    49"
      ]
     },
     "execution_count": 70,
     "metadata": {},
     "output_type": "execute_result"
    }
   ],
   "source": [
    "GPS = pd.DataFrame({\"id\":[x for x in range(5)],\"Mech_id\":[1,2,3,4,5],\"Lat\":[45,46,47,48,49],\"Long\":[45,46,47,48,49]})\n",
    "GPS"
   ]
  },
  {
   "cell_type": "code",
   "execution_count": 71,
   "metadata": {},
   "outputs": [],
   "source": [
    "Booking = pd.DataFrame()\n",
    "Farmer = pd.DataFrame()"
   ]
  },
  {
   "cell_type": "code",
   "execution_count": 72,
   "metadata": {},
   "outputs": [
    {
     "data": {
      "text/plain": [
       "Series([], Name: Mech_id, dtype: int64)"
      ]
     },
     "execution_count": 72,
     "metadata": {},
     "output_type": "execute_result"
    }
   ],
   "source": [
    "Centre[Centre.Status == True ].groupby(\"Centre_id\").count().Mech_id"
   ]
  },
  {
   "cell_type": "code",
   "execution_count": 73,
   "metadata": {},
   "outputs": [
    {
     "data": {
      "text/html": [
       "<div>\n",
       "<style scoped>\n",
       "    .dataframe tbody tr th:only-of-type {\n",
       "        vertical-align: middle;\n",
       "    }\n",
       "\n",
       "    .dataframe tbody tr th {\n",
       "        vertical-align: top;\n",
       "    }\n",
       "\n",
       "    .dataframe thead th {\n",
       "        text-align: right;\n",
       "    }\n",
       "</style>\n",
       "<table border=\"1\" class=\"dataframe\">\n",
       "  <thead>\n",
       "    <tr style=\"text-align: right;\">\n",
       "      <th></th>\n",
       "      <th>Centre_id</th>\n",
       "      <th>Centre</th>\n",
       "      <th>Mech_id</th>\n",
       "      <th>Status</th>\n",
       "      <th>id</th>\n",
       "      <th>Lat</th>\n",
       "      <th>Long</th>\n",
       "    </tr>\n",
       "  </thead>\n",
       "  <tbody>\n",
       "    <tr>\n",
       "      <th>0</th>\n",
       "      <td>8</td>\n",
       "      <td>DD</td>\n",
       "      <td>4</td>\n",
       "      <td>N</td>\n",
       "      <td>3</td>\n",
       "      <td>48</td>\n",
       "      <td>48</td>\n",
       "    </tr>\n",
       "    <tr>\n",
       "      <th>1</th>\n",
       "      <td>8</td>\n",
       "      <td>DD</td>\n",
       "      <td>5</td>\n",
       "      <td>U</td>\n",
       "      <td>4</td>\n",
       "      <td>49</td>\n",
       "      <td>49</td>\n",
       "    </tr>\n",
       "  </tbody>\n",
       "</table>\n",
       "</div>"
      ],
      "text/plain": [
       "   Centre_id Centre  Mech_id Status  id  Lat  Long\n",
       "0          8     DD        4      N   3   48    48\n",
       "1          8     DD        5      U   4   49    49"
      ]
     },
     "execution_count": 73,
     "metadata": {},
     "output_type": "execute_result"
    }
   ],
   "source": [
    "pd.merge(Centre[Centre.Centre_id == 8],GPS,how='inner',on=[\"Mech_id\"])"
   ]
  },
  {
   "cell_type": "code",
   "execution_count": 74,
   "metadata": {},
   "outputs": [
    {
     "data": {
      "text/html": [
       "<div>\n",
       "<style scoped>\n",
       "    .dataframe tbody tr th:only-of-type {\n",
       "        vertical-align: middle;\n",
       "    }\n",
       "\n",
       "    .dataframe tbody tr th {\n",
       "        vertical-align: top;\n",
       "    }\n",
       "\n",
       "    .dataframe thead th {\n",
       "        text-align: right;\n",
       "    }\n",
       "</style>\n",
       "<table border=\"1\" class=\"dataframe\">\n",
       "  <thead>\n",
       "    <tr style=\"text-align: right;\">\n",
       "      <th></th>\n",
       "      <th>State_id</th>\n",
       "      <th>Centre_id</th>\n",
       "      <th>State_name</th>\n",
       "      <th>Centre</th>\n",
       "      <th>Mech_id</th>\n",
       "      <th>Status</th>\n",
       "      <th>id</th>\n",
       "      <th>Lat</th>\n",
       "      <th>Long</th>\n",
       "    </tr>\n",
       "  </thead>\n",
       "  <tbody>\n",
       "    <tr>\n",
       "      <th>0</th>\n",
       "      <td>1</td>\n",
       "      <td>5</td>\n",
       "      <td>A</td>\n",
       "      <td>AA</td>\n",
       "      <td>1</td>\n",
       "      <td>U</td>\n",
       "      <td>0</td>\n",
       "      <td>45</td>\n",
       "      <td>45</td>\n",
       "    </tr>\n",
       "    <tr>\n",
       "      <th>1</th>\n",
       "      <td>1</td>\n",
       "      <td>6</td>\n",
       "      <td>A</td>\n",
       "      <td>BB</td>\n",
       "      <td>2</td>\n",
       "      <td>N</td>\n",
       "      <td>1</td>\n",
       "      <td>46</td>\n",
       "      <td>46</td>\n",
       "    </tr>\n",
       "  </tbody>\n",
       "</table>\n",
       "</div>"
      ],
      "text/plain": [
       "   State_id  Centre_id State_name Centre  Mech_id Status  id  Lat  Long\n",
       "0         1          5          A     AA        1      U   0   45    45\n",
       "1         1          6          A     BB        2      N   1   46    46"
      ]
     },
     "execution_count": 74,
     "metadata": {},
     "output_type": "execute_result"
    }
   ],
   "source": [
    "pd.merge(pd.merge(State[State.State_id == 1],Centre,how=\"inner\",on=[\"Centre_id\"]),GPS,how='inner',on=[\"Mech_id\"])"
   ]
  },
  {
   "cell_type": "code",
   "execution_count": 75,
   "metadata": {},
   "outputs": [],
   "source": [
    "import matplotlib.pyplot as plt"
   ]
  },
  {
   "cell_type": "markdown",
   "metadata": {},
   "source": [
    "@app.route('/approve', methods=['GET'])\n",
    "def approve():\n",
    "    #access database,i.e, run query to get pending approvals and display them based on the priority list:\n",
    "    '''\n",
    "    run a query to get booking id and sort according to the priority\n",
    "    for each level in priority in decreasing order:\n",
    "        if query with inventory shows no records of the machine, go to next machine\n",
    "        if machine in inventory, then display the available one\n",
    "        if all machine occupied in the priority, show error\n",
    "    '''\n",
    "    \n",
    "@app.route('finalise_approve',method=['GET'])\n",
    "def finalise_approve():\n",
    "    '''\n",
    "    remove the machine from the inventory list and add to the in use list. update the columns accordingly\n",
    "    return confirmation    \n",
    "    '''\n",
    "    \n",
    "@app.route('/finished_using', methods =['GET'])\n",
    "def finished_using():\n",
    "    '''\n",
    "    Update the database of inventories and increment the count of the machine returned in the inventory and remove for the used database\n",
    "    \n",
    "    '''\n",
    "@app.route('/request_analysis',methods = ['GET'])\n",
    "    '''\n",
    "    query the database and get all the tables\n",
    "    machine wise analytics, go to history of the usage database\n",
    "    do a bar chart for a hobli, the machine and its count\n",
    "\n",
    "    heat map of the currently used machines\n",
    "    '''\n",
    "    hobli = \"AA\" #choose\n",
    "    Centre[Centre.Centre == hobli]"
   ]
  },
  {
   "cell_type": "markdown",
   "metadata": {},
   "source": [
    "hobli wise:-"
   ]
  },
  {
   "cell_type": "code",
   "execution_count": 94,
   "metadata": {},
   "outputs": [
    {
     "name": "stdout",
     "output_type": "stream",
     "text": [
      "   Centre_id Centre  Mech_id Status Description\n",
      "0          8     DD        4      N           D\n",
      "1          8     DD        5      U           E\n",
      "2          8     DD        6      N           E\n"
     ]
    },
    {
     "data": {
      "image/png": "[encoded data removed]",
      "text/plain": [
       "<Figure size 432x288 with 1 Axes>"
      ]
     },
     "metadata": {},
     "output_type": "display_data"
    }
   ],
   "source": [
    "hobli_choice = \"DD\" #choose\n",
    "new_db = pd.merge(Centre[Centre.Centre == hobli_choice],machine_table,on=['Mech_id'],how='inner')\n",
    "print(new_db)\n",
    "new_db.Description.value_counts().plot.bar()\n",
    "plt.ylabel(\"number of machines\")\n",
    "plt.xlabel(\"Machines\")\n",
    "plt.show()"
   ]
  },
  {
   "cell_type": "code",
   "execution_count": 87,
   "metadata": {},
   "outputs": [
    {
     "data": {
      "text/plain": [
       "<matplotlib.axes._subplots.AxesSubplot at 0xfc27d0>"
      ]
     },
     "execution_count": 87,
     "metadata": {},
     "output_type": "execute_result"
    },
    {
     "data": {
      "image/png": "[encoded data removed]",
      "text/plain": [
       "<Figure size 432x288 with 1 Axes>"
      ]
     },
     "metadata": {},
     "output_type": "display_data"
    }
   ],
   "source": [
    "state_choice = \"B\"\n",
    "new_state = State[State.State_name == state_choice]\n",
    "new_db = pd.merge(new_state,Centre,on=[\"Centre_id\"],how = 'inner')\n",
    "new_db.Centre.value_counts().plot.bar()\n",
    "plt.ylabel(\"Number of machines\")\n",
    "plt.xlabel(\"\")"
   ]
  },
  {
   "cell_type": "code",
   "execution_count": 88,
   "metadata": {},
   "outputs": [],
   "source": [
    "from gmplot import gmplot\n",
    "\n",
    "# Place map\n",
    "gmap = gmplot.GoogleMapPlotter(37.766956, -122.438481, 13)\n",
    "\n",
    "# Polygon\n",
    "golden_gate_park_lats, golden_gate_park_lons = zip(*[\n",
    "    (37.771269, -122.511015),\n",
    "    (37.773495, -122.464830),\n",
    "    (37.774797, -122.454538),\n",
    "    (37.771988, -122.454018),\n",
    "    (37.773646, -122.440979),\n",
    "    (37.772742, -122.440797),\n",
    "    (37.771096, -122.453889),\n",
    "    (37.768669, -122.453518),\n",
    "    (37.766227, -122.460213),\n",
    "    (37.764028, -122.510347),\n",
    "    (37.771269, -122.511015)\n",
    "    ])\n",
    "gmap.plot(golden_gate_park_lats, golden_gate_park_lons, 'cornflowerblue', edge_width=10)\n",
    "\n",
    "# Scatter points\n",
    "top_attraction_lats, top_attraction_lons = zip(*[\n",
    "    (37.769901, -122.498331),\n",
    "    (37.768645, -122.475328),\n",
    "    (37.771478, -122.468677),\n",
    "    (37.769867, -122.466102),\n",
    "    (37.767187, -122.467496),\n",
    "    (37.770104, -122.470436)\n",
    "    ])\n",
    "gmap.scatter(top_attraction_lats, top_attraction_lons, '#3B0B39', size=40, marker=False)\n",
    "\n",
    "# Marker\n",
    "hidden_gem_lat, hidden_gem_lon = 37.770776, -122.461689\n",
    "gmap.marker(hidden_gem_lat, hidden_gem_lon, 'cornflowerblue')\n",
    "\n",
    "# Draw\n",
    "gmap.draw(\"my_map.html\")"
   ]
  },
  {
   "cell_type": "code",
   "execution_count": 92,
   "metadata": {},
   "outputs": [],
   "source": [
    "latitudes = [34.0522 for x in range(500)]#GPS[\"Lat\"]\n",
    "longitudes = [-118.2437 for x in range(500)]#GPS[\"Long\"]\n",
    "gmap = gmplot.GoogleMapPlotter(34.0522, -118.2437, 100)\n",
    "\n",
    "# Overlay our datapoints onto the map\n",
    "gmap.heatmap(latitudes, longitudes)\n",
    "gmap.draw(\"my_heatmap.html\")"
   ]
  },
  {
   "cell_type": "code",
   "execution_count": null,
   "metadata": {},
   "outputs": [],
   "source": []
  }
 ],
 "metadata": {
  "kernelspec": {
   "display_name": "Python 3",
   "language": "python",
   "name": "python3"
  },
  "language_info": {
   "codemirror_mode": {
    "name": "ipython",
    "version": 3
   },
   "file_extension": ".py",
   "mimetype": "text/x-python",
   "name": "python",
   "nbconvert_exporter": "python",
   "pygments_lexer": "ipython3",
   "version": "3.6.5"
  }
 },
 "nbformat": 4,
 "nbformat_minor": 2
}
